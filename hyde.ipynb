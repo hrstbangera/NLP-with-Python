{
  "nbformat": 4,
  "nbformat_minor": 0,
  "metadata": {
    "colab": {
      "provenance": [],
      "authorship_tag": "ABX9TyOcxcfUH3jHfrBvYkH6jAhe",
      "include_colab_link": true
    },
    "kernelspec": {
      "name": "python3",
      "display_name": "Python 3"
    },
    "language_info": {
      "name": "python"
    }
  },
  "cells": [
    {
      "cell_type": "markdown",
      "metadata": {
        "id": "view-in-github",
        "colab_type": "text"
      },
      "source": [
        "<a href=\"https://colab.research.google.com/github/hrstbangera/NLP-with-Python/blob/master/hyde.ipynb\" target=\"_parent\"><img src=\"https://colab.research.google.com/assets/colab-badge.svg\" alt=\"Open In Colab\"/></a>"
      ]
    },
    {
      "cell_type": "code",
      "execution_count": null,
      "metadata": {
        "id": "H4OghDl28As8"
      },
      "outputs": [],
      "source": [
        "pip install -q langchain langchain-google-genai sentence-transformers chromadb"
      ]
    },
    {
      "cell_type": "code",
      "source": [
        "# --- Setting API KEY ---\n",
        "import os\n",
        "\n",
        "os.environ['GOOGLE_API_KEY']='YOUR GOOGLE API KEY'\n",
        "\n",
        "# --- Model Loading ---\n",
        "# Import the necessary modules from the langchain_google_genai package.\n",
        "from langchain_google_genai import GoogleGenerativeAIEmbeddings\n",
        "from langchain_google_genai import ChatGoogleGenerativeAI\n",
        "\n",
        "# Create a ChatGoogleGenerativeAI Object and convert system messages to human-readable format.\n",
        "llm = ChatGoogleGenerativeAI(model=\"gemini-pro\", convert_system_message_to_human=True)\n",
        "\n",
        "# Create a GoogleGenerativeAIEmbeddings object for embedding our Prompts and documents\n",
        "Embeddings = GoogleGenerativeAIEmbeddings(model=\"models/embedding-001\")"
      ],
      "metadata": {
        "id": "UJo7B8oX8Go3"
      },
      "execution_count": null,
      "outputs": []
    },
    {
      "cell_type": "code",
      "source": [
        "# --- Data Loading ---\n",
        "# Import the WebBaseLoader class from the langchain_community.document_loaders module.\n",
        "from langchain_community.document_loaders import WebBaseLoader\n",
        "\n",
        "# Create a WebBaseLoader object with the URL of the blog post to load.\n",
        "loader = WebBaseLoader(\"https://lilianweng.github.io/posts/2023-03-15-prompt-engineering/\")\n",
        "\n",
        "# Load the blog post and store the documents in the `docs` variable.\n",
        "docs = loader.load()"
      ],
      "metadata": {
        "id": "x0-MRwYO8JHr"
      },
      "execution_count": null,
      "outputs": []
    },
    {
      "cell_type": "code",
      "source": [
        "# --- Splitting / Creating Chunks ---\n",
        "# Import the RecursiveCharacterTextSplitter class from the\n",
        "# langchain.text_splitter module.\n",
        "from langchain.text_splitter import RecursiveCharacterTextSplitter\n",
        "\n",
        "\n",
        "# Create a RecursiveCharacterTextSplitter object using the provided\n",
        "# chunk size and overlap.\n",
        "text_splitter = RecursiveCharacterTextSplitter(chunk_size=300,\n",
        "chunk_overlap=50)\n",
        "\n",
        "\n",
        "# Split the documents in the `docs` variable into smaller chunks and\n",
        "#store the resulting splits in the `splits` variable.\n",
        "splits = text_splitter.split_documents(docs)"
      ],
      "metadata": {
        "id": "yYp8TybD8LvH"
      },
      "execution_count": null,
      "outputs": []
    },
    {
      "cell_type": "code",
      "source": [
        "# --- Creating Embeddings by Passing Hyde Embeddings to Vector Store ---\n",
        "from langchain_community.vectorstores import Chroma\n",
        "\n",
        "\n",
        "# passing the hyde embeddings to create and store embeddings\n",
        "vectorstore = Chroma.from_documents(documents=splits,\n",
        "                                   collection_name='my-collection',\n",
        "                                   embedding=Embeddings)\n",
        "\n",
        "\n",
        "# Creating Retriever\n",
        "retriever = vectorstore.as_retriever(search_type=\"similarity\", search_kwargs={\"k\": 4})"
      ],
      "metadata": {
        "id": "8YnUe-GO8OWC"
      },
      "execution_count": null,
      "outputs": []
    },
    {
      "cell_type": "code",
      "source": [
        "# Importing the Prompt Template\n",
        "from langchain.prompts import ChatPromptTemplate\n",
        "# Creating the Prompt Template\n",
        "template = \"\"\"For the given question try to generate a hypothetical answer\\\n",
        "Only generate the answer and nothing else:\n",
        "Question: {question}\n",
        "\"\"\"\n",
        "\n",
        "Prompt = ChatPromptTemplate.from_template(template)\n",
        "query = Prompt.format(question = 'What are different Chain of Thought(CoT) Prompting?')\n",
        "\n",
        "hypothetical_answer = llm.invoke(query).content\n",
        "print(hypothetical_answer)"
      ],
      "metadata": {
        "id": "6kEcMoeT8RZd"
      },
      "execution_count": null,
      "outputs": []
    },
    {
      "cell_type": "code",
      "source": [
        "# retrieval with hypothetical answer/document\n",
        "similar_docs = retriever.get_relevant_documents(hypothetical_answer)\n",
        "\n",
        "\n",
        "for doc in similar_docs:\n",
        " print(doc.page_content)\n",
        " print()"
      ],
      "metadata": {
        "id": "tujWrkVv8T1A"
      },
      "execution_count": null,
      "outputs": []
    },
    {
      "cell_type": "code",
      "source": [
        "# retrieval with original query\n",
        "similar_docs = retriever.get_relevant_documents('What are different \\\n",
        "Chain of Thought(CoT) Prompting?')\n",
        "\n",
        "for doc in similar_docs:\n",
        " print(doc.page_content)\n",
        " print()"
      ],
      "metadata": {
        "id": "b5-KictH8V-P"
      },
      "execution_count": null,
      "outputs": []
    },
    {
      "cell_type": "code",
      "source": [
        "# Creating the Prompt Template\n",
        "template = \"\"\"Answer the following question based on this context:\n",
        "\n",
        "{context}\n",
        "\n",
        "Question: {question}\n",
        "\"\"\"\n",
        "\n",
        "Prompt = ChatPromptTemplate.from_template(template)\n",
        "# Creating a function to format the retrieved docs\n",
        "def format_docs(docs):\n",
        "   return \"\\n\\n\".join(doc.page_content for doc in docs)\n",
        "\n",
        "formatted_docs = format_docs(similar_docs)\n",
        "\n",
        "Query_Prompt = Prompt.format(context=formatted_docs,\n",
        "question=\"What are different Chain of Thought(CoT) Prompting?\")\n",
        "print(Query_Prompt)"
      ],
      "metadata": {
        "id": "ndb-bZbd8ZVK"
      },
      "execution_count": null,
      "outputs": []
    },
    {
      "cell_type": "code",
      "source": [
        "response = llm.invoke(Query_Prompt)\n",
        "\n",
        "print(response.content)"
      ],
      "metadata": {
        "id": "51JEo-xC8dWi"
      },
      "execution_count": null,
      "outputs": []
    },
    {
      "cell_type": "code",
      "source": [
        "from langchain_google_genai import GoogleGenerativeAI\n",
        "from langchain_google_genai import GoogleGenerativeAIEmbeddings\n",
        "\n",
        "llm = GoogleGenerativeAI(model=\"gemini-pro\")\n",
        "Emebeddings = GoogleGenerativeAIEmbeddings(model=\"models/embedding-001\")\n",
        "\n",
        "from langchain_community.document_loaders import WebBaseLoader\n",
        "\n",
        "loader = WebBaseLoader(\"https://lilianweng.github.io/posts/2023-03-15-prompt-engineering/\")\n",
        "docs = loader.load()\n",
        "\n",
        "from langchain.text_splitter import RecursiveCharacterTextSplitter\n",
        "text_splitter = RecursiveCharacterTextSplitter(chunk_size=300,chunk_overlap=50)\n",
        "splits = text_splitter.split_documents(docs)\n",
        "\n",
        "\n",
        "from langchain.chains import HypotheticalDocumentEmbedder\n",
        "hyde_embeddings = HypotheticalDocumentEmbedder.from_llm(llm,\n",
        "                                                  Embeddings,\n",
        "                                                  prompt_key = \"web_search\")\n",
        "\n",
        "from langchain_community.vectorstores import Chroma\n",
        "\n",
        "\n",
        "vectorstore = Chroma.from_documents(documents=splits,\n",
        "                                   collection_name='collection-1',\n",
        "                                   embedding=hyde_embeddings)\n",
        "retriever = vectorstore.as_retriever(search_type=\"similarity\", search_kwargs={\"k\": 4})\n",
        "\n",
        "\n",
        "from langchain.schema.runnable import RunnablePassthrough\n",
        "from langchain_core.output_parsers import StrOutputParser\n",
        "from langchain.prompts import PromptTemplate, ChatPromptTemplate\n",
        "template = \"\"\"Answer the following question based on this context:\n",
        "{context}\n",
        "\n",
        "Question: {question}\n",
        "\"\"\"\n",
        "prompt = ChatPromptTemplate.from_template(template)\n",
        "def format_docs(docs):\n",
        "   return \"\\n\\n\".join(doc.page_content for doc in docs)\n",
        "\n",
        "rag_chain = (\n",
        "   {\"context\": retriever | format_docs, \"question\": RunnablePassthrough()}\n",
        "   | prompt\n",
        "   | llm\n",
        "   | StrOutputParser()\n",
        ")\n",
        "response = rag_chain.invoke(\"What are different Chain of Thought(CoT) prompting?\")\n",
        "print(response)"
      ],
      "metadata": {
        "id": "2iGe7MrN8hZH"
      },
      "execution_count": null,
      "outputs": []
    }
  ]
}